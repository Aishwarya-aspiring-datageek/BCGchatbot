{
 "cells": [
  {
   "cell_type": "markdown",
   "id": "0b662a08",
   "metadata": {
    "tags": [
     "hide-cell"
    ]
   },
   "source": [
    "# Data Extraction & Initial Analysis"
   ]
  },
  {
   "cell_type": "markdown",
   "id": "4a2d9f2a",
   "metadata": {
    "tags": [
     "hide-cell"
    ]
   },
   "source": [
    "## Importing libraries and the dataset"
   ]
  },
  {
   "cell_type": "code",
   "execution_count": null,
   "id": "40ca89ac",
   "metadata": {
    "tags": [
     "hide-cell"
    ]
   },
   "outputs": [],
   "source": [
    "import numpy as np\n",
    "import scipy as sp\n",
    "import pandas as pd\n",
    "import seaborn as sns\n",
    "import statsmodels.formula.api as smf\n",
    "import statsmodels.api as sm\n",
    "import matplotlib.pyplot as plt"
   ]
  },
  {
   "cell_type": "code",
   "execution_count": null,
   "id": "50456e6e",
   "metadata": {
    "tags": [
     "hide-cell"
    ]
   },
   "outputs": [],
   "source": [
    "import os\n",
    "from os import listdir\n",
    "\n",
    "for item in listdir(path=\"./\"): # into datasets folder\n",
    "    print(item)"
   ]
  },
  {
   "cell_type": "code",
   "execution_count": null,
   "id": "72253fdb",
   "metadata": {
    "tags": [
     "hide-cell"
    ]
   },
   "outputs": [],
   "source": [
    "file = \"./BCG project.csv\"\n",
    "\n",
    "my_df = pd.read_csv(file)"
   ]
  },
  {
   "cell_type": "markdown",
   "id": "27bcf90b",
   "metadata": {
    "tags": [
     "hide-cell"
    ]
   },
   "source": [
    "## Exploring the data"
   ]
  },
  {
   "cell_type": "code",
   "execution_count": null,
   "id": "f1082a83",
   "metadata": {
    "tags": [
     "hide-cell"
    ]
   },
   "outputs": [],
   "source": [
    "my_df.info()"
   ]
  },
  {
   "cell_type": "markdown",
   "id": "676c90ae",
   "metadata": {
    "tags": [
     "hide-cell"
    ]
   },
   "source": [
    "### Converting Dtypes of the columns "
   ]
  },
  {
   "cell_type": "code",
   "execution_count": null,
   "id": "e1ddc779",
   "metadata": {
    "tags": [
     "hide-cell"
    ]
   },
   "outputs": [],
   "source": [
    "my_df['Company'] = my_df['Company'].astype('str')"
   ]
  },
  {
   "cell_type": "code",
   "execution_count": null,
   "id": "c5182430",
   "metadata": {
    "tags": [
     "hide-cell"
    ]
   },
   "outputs": [],
   "source": [
    "my_df['Total Revenue (in millions)'] = my_df['Total Revenue (in millions)'].str.replace(' ','').str.replace(',','').astype('float')\n",
    "\n",
    "\n",
    "my_df['Net Income (in milions)'] = my_df['Net Income (in milions)'].str.replace(' ','').str.replace(',','').astype('float')\n",
    "\n",
    "\n",
    "my_df['Total assets (in millions)'] = my_df['Total assets (in millions)'].str.replace(' ','').str.replace(',','').astype('float')\n",
    "\n",
    "\n",
    "my_df['Total liabilities (in millions)'] = my_df['Total liabilities (in millions)'].str.replace(' ','').str.replace(',','').astype('float')\n",
    "\n",
    "my_df['Cash Flow from Operating Activities (in millions)'] = my_df['Cash Flow from Operating Activities (in millions)'].str.replace(' ','').str.replace(',','').astype('float')"
   ]
  },
  {
   "cell_type": "code",
   "execution_count": null,
   "id": "8a518779",
   "metadata": {
    "tags": [
     "hide-cell"
    ]
   },
   "outputs": [],
   "source": [
    "my_df.info()"
   ]
  },
  {
   "cell_type": "markdown",
   "id": "e7047c1d",
   "metadata": {
    "tags": [
     "hide-cell"
    ]
   },
   "source": [
    "## Visualizations to understand the relationship between different variables"
   ]
  },
  {
   "cell_type": "code",
   "execution_count": null,
   "id": "b7292f5d",
   "metadata": {
    "tags": [
     "hide-cell"
    ]
   },
   "outputs": [],
   "source": [
    "my_df.groupby(by=['Company']).mean().round(0)"
   ]
  },
  {
   "cell_type": "code",
   "execution_count": null,
   "id": "bc53f4e3",
   "metadata": {
    "tags": [
     "hide-cell"
    ]
   },
   "outputs": [],
   "source": [
    "my_df['Revenue Growth(%)']=my_df.groupby(['Company'])['Total Revenue (in millions)'].pct_change(periods = -1)*100\n",
    "my_df['Net Income Growth(%)']=my_df.groupby(['Company'])['Net Income (in milions)'].pct_change(periods = -1)*100"
   ]
  },
  {
   "cell_type": "code",
   "execution_count": null,
   "id": "9a5ef94a",
   "metadata": {
    "tags": [
     "hide-cell"
    ]
   },
   "outputs": [],
   "source": [
    "my_df.head(10)"
   ]
  },
  {
   "cell_type": "markdown",
   "id": "1e9bed11",
   "metadata": {
    "tags": [
     "hide-cell"
    ]
   },
   "source": [
    "We can see for all 3 companies, 2022 was the best in terms of Revenue Growth and Net Income Growth whereas in 2023, only Microsoft has managed to secure an increase in both revenue and net income.   "
   ]
  },
  {
   "cell_type": "code",
   "execution_count": null,
   "id": "b085aba2",
   "metadata": {
    "tags": [
     "hide-cell"
    ]
   },
   "outputs": [],
   "source": [
    "sns.lineplot(x = 'Fiscal Year', y = 'Net Income (in milions)', hue = 'Company', data= my_df)\n",
    "plt.show()"
   ]
  },
  {
   "cell_type": "code",
   "execution_count": null,
   "id": "cd2d0f58",
   "metadata": {
    "tags": [
     "hide-cell"
    ]
   },
   "outputs": [],
   "source": [
    "sns.lineplot(x = 'Fiscal Year', y = 'Net Income (in milions)', hue = 'Company', data= my_df)\n",
    "plt.show()"
   ]
  },
  {
   "cell_type": "code",
   "execution_count": null,
   "id": "1e5c0711",
   "metadata": {
    "code_folding": [],
    "tags": [
     "hide-cell"
    ]
   },
   "outputs": [],
   "source": [
    "#Test code test_num = (my_df.at[4,'Total Revenue (in millions)']/1000).round()"
   ]
  },
  {
   "cell_type": "markdown",
   "id": "7132b05d",
   "metadata": {},
   "source": [
    "# Chatbot prototype"
   ]
  },
  {
   "cell_type": "code",
   "execution_count": null,
   "id": "e1fc81f8",
   "metadata": {},
   "outputs": [],
   "source": [
    "#Setting up the answers for 3 sample queries:\n",
    "tesla_income = str((my_df.at[3,'Net Income (in milions)']/1000).round(1)) + (\" million dollars\")\n",
    "ms_revenue = str((my_df.at[0,'Revenue Growth(%)']).round(1)) + (\"% \")\n",
    "apple_year = (my_df.at[7,'Fiscal Year'])"
   ]
  },
  {
   "cell_type": "code",
   "execution_count": null,
   "id": "33ba7b9a",
   "metadata": {},
   "outputs": [],
   "source": [
    "#Setting up the Chatbot logic with the queries:\n",
    "def chat_bot(userquery):\n",
    "    if userquery == \"What was Microsoft's revenue growth in 2023?\":\n",
    "        print (\"Microsoft's revenue growth in 2023 was\", ms_revenue)\n",
    "    elif userquery == \"What was Tesla's net income in 2023?\":\n",
    "        print(\"Tesla's net income was\",tesla_income,\"in 2023\")\n",
    "    elif userquery == \"Which year was profitable for Apple?\":\n",
    "        print(\"Fiscal year\",apple_year,\"was profitable for Apple\")\n",
    "    else:\n",
    "        return \"Sorry, I can only provide information on predefined queries\""
   ]
  },
  {
   "cell_type": "code",
   "execution_count": null,
   "id": "7189a9b6",
   "metadata": {
    "code_folding": []
   },
   "outputs": [],
   "source": [
    "#Testing the chat_bot(\"Which year was profitable for Apple?\")"
   ]
  },
  {
   "cell_type": "code",
   "execution_count": null,
   "id": "2ab52047",
   "metadata": {},
   "outputs": [],
   "source": [
    "#Chatbot\n",
    "userquery = input(\"How can I help you today?\")\n",
    "print(chat_bot(userquery))\n",
    "next_question = input(\"Do you have any more questions? (Yes/No)\")\n",
    "while next_question == \"Yes\":\n",
    "    xyz = input(\"Tell me what you want to know : \")\n",
    "    print(chat_bot(xyz))\n",
    "    next_question = input(\"Do you have any more questions? (Yes/No): \")\n",
    "else:\n",
    "    print(\"Glad I was able to support you. Feel free to reach out to me if you have any further questions.\")"
   ]
  }
 ],
 "metadata": {
  "kernelspec": {
   "display_name": "Python 3 (ipykernel)",
   "language": "python",
   "name": "python3"
  },
  "language_info": {
   "codemirror_mode": {
    "name": "ipython",
    "version": 3
   },
   "file_extension": ".py",
   "mimetype": "text/x-python",
   "name": "python",
   "nbconvert_exporter": "python",
   "pygments_lexer": "ipython3",
   "version": "3.9.7"
  },
  "toc": {
   "base_numbering": 1,
   "nav_menu": {},
   "number_sections": true,
   "sideBar": true,
   "skip_h1_title": false,
   "title_cell": "Table of Contents",
   "title_sidebar": "Contents",
   "toc_cell": false,
   "toc_position": {},
   "toc_section_display": true,
   "toc_window_display": false
  },
  "varInspector": {
   "cols": {
    "lenName": 16,
    "lenType": 16,
    "lenVar": 40
   },
   "kernels_config": {
    "python": {
     "delete_cmd_postfix": "",
     "delete_cmd_prefix": "del ",
     "library": "var_list.py",
     "varRefreshCmd": "print(var_dic_list())"
    },
    "r": {
     "delete_cmd_postfix": ") ",
     "delete_cmd_prefix": "rm(",
     "library": "var_list.r",
     "varRefreshCmd": "cat(var_dic_list()) "
    }
   },
   "types_to_exclude": [
    "module",
    "function",
    "builtin_function_or_method",
    "instance",
    "_Feature"
   ],
   "window_display": false
  }
 },
 "nbformat": 4,
 "nbformat_minor": 5
}
